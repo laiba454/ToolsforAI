{
 "cells": [
  {
   "cell_type": "code",
   "execution_count": 11,
   "id": "58427a24",
   "metadata": {},
   "outputs": [],
   "source": [
    "a=2 \n",
    "b=1.0\n",
    "c=3\n",
    "\n"
   ]
  },
  {
   "cell_type": "code",
   "execution_count": 4,
   "id": "a14659b3",
   "metadata": {},
   "outputs": [
    {
     "name": "stdout",
     "output_type": "stream",
     "text": [
      "4\n"
     ]
    }
   ],
   "source": [
    "print(a+a)"
   ]
  },
  {
   "cell_type": "code",
   "execution_count": 6,
   "id": "0141a21b",
   "metadata": {},
   "outputs": [
    {
     "name": "stdout",
     "output_type": "stream",
     "text": [
      "5\n"
     ]
    }
   ],
   "source": [
    "print(a+b)"
   ]
  },
  {
   "cell_type": "code",
   "execution_count": 8,
   "id": "06fbe2a5",
   "metadata": {},
   "outputs": [
    {
     "name": "stdout",
     "output_type": "stream",
     "text": [
      "5\n"
     ]
    }
   ],
   "source": [
    "print(b+a)"
   ]
  },
  {
   "cell_type": "code",
   "execution_count": 12,
   "id": "77f8b793",
   "metadata": {},
   "outputs": [
    {
     "name": "stdout",
     "output_type": "stream",
     "text": [
      "1\n"
     ]
    }
   ],
   "source": [
    "print(c-a)"
   ]
  },
  {
   "cell_type": "code",
   "execution_count": 14,
   "id": "51e68f0a",
   "metadata": {},
   "outputs": [
    {
     "name": "stdout",
     "output_type": "stream",
     "text": [
      "1.5\n"
     ]
    }
   ],
   "source": [
    "print(c/a)"
   ]
  },
  {
   "cell_type": "code",
   "execution_count": 16,
   "id": "e54c5822",
   "metadata": {},
   "outputs": [
    {
     "name": "stdout",
     "output_type": "stream",
     "text": [
      "1\n"
     ]
    }
   ],
   "source": [
    "print(c//a)"
   ]
  },
  {
   "cell_type": "code",
   "execution_count": 18,
   "id": "2112a210",
   "metadata": {},
   "outputs": [
    {
     "name": "stdout",
     "output_type": "stream",
     "text": [
      "3.0\n"
     ]
    }
   ],
   "source": [
    "print(c/b)"
   ]
  },
  {
   "cell_type": "code",
   "execution_count": 20,
   "id": "e95f2b8d",
   "metadata": {},
   "outputs": [
    {
     "name": "stdout",
     "output_type": "stream",
     "text": [
      "2.0\n"
     ]
    }
   ],
   "source": [
    "print(a//b)"
   ]
  },
  {
   "cell_type": "code",
   "execution_count": 22,
   "id": "d56225fb",
   "metadata": {},
   "outputs": [
    {
     "name": "stdout",
     "output_type": "stream",
     "text": [
      "1\n"
     ]
    }
   ],
   "source": [
    "print(c%a)"
   ]
  },
  {
   "cell_type": "code",
   "execution_count": 24,
   "id": "9be16be0",
   "metadata": {},
   "outputs": [
    {
     "name": "stdout",
     "output_type": "stream",
     "text": [
      "0.0\n"
     ]
    }
   ],
   "source": [
    "print(c%b)"
   ]
  },
  {
   "cell_type": "code",
   "execution_count": 26,
   "id": "2c36164f",
   "metadata": {},
   "outputs": [
    {
     "name": "stdout",
     "output_type": "stream",
     "text": [
      "2.0\n"
     ]
    }
   ],
   "source": [
    "print(a*b)"
   ]
  },
  {
   "cell_type": "code",
   "execution_count": 28,
   "id": "633bedeb",
   "metadata": {},
   "outputs": [
    {
     "name": "stdout",
     "output_type": "stream",
     "text": [
      "4\n"
     ]
    }
   ],
   "source": [
    "print(a*a)"
   ]
  },
  {
   "cell_type": "code",
   "execution_count": 30,
   "id": "32f69dda",
   "metadata": {},
   "outputs": [
    {
     "name": "stdout",
     "output_type": "stream",
     "text": [
      "8\n"
     ]
    }
   ],
   "source": [
    "print(a**c)"
   ]
  },
  {
   "cell_type": "code",
   "execution_count": 32,
   "id": "27860234",
   "metadata": {},
   "outputs": [
    {
     "name": "stdout",
     "output_type": "stream",
     "text": [
      "2.0\n"
     ]
    }
   ],
   "source": [
    "print(a**b)"
   ]
  },
  {
   "cell_type": "code",
   "execution_count": 58,
   "id": "b39d2c8d",
   "metadata": {},
   "outputs": [],
   "source": [
    "a=2\n",
    "b=1.5\n",
    "c=3"
   ]
  },
  {
   "cell_type": "code",
   "execution_count": 59,
   "id": "1bdbea0c",
   "metadata": {},
   "outputs": [
    {
     "name": "stdout",
     "output_type": "stream",
     "text": [
      "3.5\n"
     ]
    }
   ],
   "source": [
    "print(a+b)"
   ]
  },
  {
   "cell_type": "code",
   "execution_count": 60,
   "id": "5310dca4",
   "metadata": {},
   "outputs": [
    {
     "name": "stdout",
     "output_type": "stream",
     "text": [
      "3\n"
     ]
    }
   ],
   "source": [
    "print(a + int(b))"
   ]
  },
  {
   "cell_type": "code",
   "execution_count": 61,
   "id": "edcb9498",
   "metadata": {},
   "outputs": [
    {
     "name": "stdout",
     "output_type": "stream",
     "text": [
      "4\n"
     ]
    }
   ],
   "source": [
    "print(a+round(b))"
   ]
  },
  {
   "cell_type": "code",
   "execution_count": 63,
   "id": "1a3f8efb",
   "metadata": {},
   "outputs": [
    {
     "name": "stdout",
     "output_type": "stream",
     "text": [
      "3.5\n"
     ]
    }
   ],
   "source": [
    "print(a+round(b,2))"
   ]
  },
  {
   "cell_type": "code",
   "execution_count": 65,
   "id": "3d7ea488",
   "metadata": {},
   "outputs": [
    {
     "name": "stdout",
     "output_type": "stream",
     "text": [
      "3.0\n"
     ]
    }
   ],
   "source": [
    "print(a+float(int(b)))"
   ]
  },
  {
   "cell_type": "code",
   "execution_count": 67,
   "id": "37d107f9",
   "metadata": {},
   "outputs": [
    {
     "name": "stdout",
     "output_type": "stream",
     "text": [
      "5\n"
     ]
    }
   ],
   "source": [
    "print(a+c)"
   ]
  },
  {
   "cell_type": "code",
   "execution_count": 69,
   "id": "2b466a8e",
   "metadata": {},
   "outputs": [
    {
     "name": "stdout",
     "output_type": "stream",
     "text": [
      "5.0\n"
     ]
    }
   ],
   "source": [
    "print(a + float(c))"
   ]
  },
  {
   "cell_type": "code",
   "execution_count": 71,
   "id": "f2cc88d6",
   "metadata": {},
   "outputs": [
    {
     "name": "stdout",
     "output_type": "stream",
     "text": [
      "7.5\n"
     ]
    }
   ],
   "source": [
    "a=b*c\n",
    "a+=c\n",
    "a+c\n",
    "print(a)\n"
   ]
  },
  {
   "cell_type": "code",
   "execution_count": 94,
   "id": "9a67f8de",
   "metadata": {},
   "outputs": [],
   "source": [
    "d='Lebensmittel'\n",
    "e='informatik'\n"
   ]
  },
  {
   "cell_type": "code",
   "execution_count": 95,
   "id": "5f4deaca",
   "metadata": {},
   "outputs": [
    {
     "name": "stdout",
     "output_type": "stream",
     "text": [
      "Lebensmittelinformatik\n"
     ]
    }
   ],
   "source": [
    "print(d+e)"
   ]
  },
  {
   "cell_type": "code",
   "execution_count": 96,
   "id": "f7b7c879",
   "metadata": {},
   "outputs": [
    {
     "name": "stdout",
     "output_type": "stream",
     "text": [
      "LebensmittelLebensmittel\n"
     ]
    }
   ],
   "source": [
    "print(2*d)"
   ]
  },
  {
   "cell_type": "code",
   "execution_count": 97,
   "id": "ea57877b",
   "metadata": {},
   "outputs": [
    {
     "name": "stdout",
     "output_type": "stream",
     "text": [
      "fork\n"
     ]
    }
   ],
   "source": [
    "print(e [2:5] + e [9])"
   ]
  },
  {
   "cell_type": "code",
   "execution_count": 100,
   "id": "bee5777a",
   "metadata": {},
   "outputs": [
    {
     "name": "stdout",
     "output_type": "stream",
     "text": [
      "farm\n"
     ]
    }
   ],
   "source": [
    "print(e [2] + e [6] + e [4] +e [5])\n"
   ]
  },
  {
   "cell_type": "code",
   "execution_count": 101,
   "id": "643ac1b0",
   "metadata": {},
   "outputs": [
    {
     "name": "stdout",
     "output_type": "stream",
     "text": [
      "de\n"
     ]
    }
   ],
   "source": [
    "print(\"d\"+\"e\")"
   ]
  },
  {
   "cell_type": "code",
   "execution_count": 103,
   "id": "92dab10e",
   "metadata": {},
   "outputs": [
    {
     "name": "stdout",
     "output_type": "stream",
     "text": [
      "Lebensmittel informatik\n",
      "None\n"
     ]
    }
   ],
   "source": [
    "print(print ( d + \" \" + e ))"
   ]
  },
  {
   "cell_type": "code",
   "execution_count": 110,
   "id": "15638c5c",
   "metadata": {},
   "outputs": [
    {
     "name": "stdout",
     "output_type": "stream",
     "text": [
      "’Lebensmittelinformatik\n"
     ]
    }
   ],
   "source": [
    "print(\"’\" + d + e + \"\")"
   ]
  },
  {
   "cell_type": "code",
   "execution_count": 112,
   "id": "7c97a637",
   "metadata": {},
   "outputs": [
    {
     "name": "stdout",
     "output_type": "stream",
     "text": [
      "Lebensmittel\n"
     ]
    }
   ],
   "source": [
    "print(d)"
   ]
  },
  {
   "cell_type": "code",
   "execution_count": 114,
   "id": "06212690",
   "metadata": {},
   "outputs": [],
   "source": [
    "f='fork'\n",
    "g='farm'"
   ]
  },
  {
   "cell_type": "code",
   "execution_count": 117,
   "id": "0ac0ed38",
   "metadata": {},
   "outputs": [
    {
     "ename": "TypeError",
     "evalue": "can only concatenate str (not \"int\") to str",
     "output_type": "error",
     "traceback": [
      "\u001b[1;31m---------------------------------------------------------------------------\u001b[0m",
      "\u001b[1;31mTypeError\u001b[0m                                 Traceback (most recent call last)",
      "\u001b[1;32m~\\AppData\\Local\\Temp\\ipykernel_11656\\1117419366.py\u001b[0m in \u001b[0;36m<module>\u001b[1;34m\u001b[0m\n\u001b[1;32m----> 1\u001b[1;33m \u001b[0mprint\u001b[0m\u001b[1;33m(\u001b[0m\u001b[0mf\u001b[0m\u001b[1;33m+\u001b[0m\u001b[1;36m2\u001b[0m\u001b[1;33m+\u001b[0m\u001b[0mg\u001b[0m\u001b[1;33m)\u001b[0m\u001b[1;33m\u001b[0m\u001b[1;33m\u001b[0m\u001b[0m\n\u001b[0m",
      "\u001b[1;31mTypeError\u001b[0m: can only concatenate str (not \"int\") to str"
     ]
    }
   ],
   "source": [
    "print(f+2+g)"
   ]
  },
  {
   "cell_type": "code",
   "execution_count": 123,
   "id": "2f51d2ce",
   "metadata": {},
   "outputs": [
    {
     "name": "stdout",
     "output_type": "stream",
     "text": [
      "fork2farm\n"
     ]
    }
   ],
   "source": [
    "print(f+'2'+g)"
   ]
  },
  {
   "cell_type": "code",
   "execution_count": 124,
   "id": "d70b9b9a",
   "metadata": {},
   "outputs": [
    {
     "name": "stdout",
     "output_type": "stream",
     "text": [
      "farm2fork\n"
     ]
    }
   ],
   "source": [
    "print(g+str(2)+f)"
   ]
  },
  {
   "cell_type": "code",
   "execution_count": 142,
   "id": "55992213",
   "metadata": {},
   "outputs": [
    {
     "name": "stdout",
     "output_type": "stream",
     "text": [
      "farm2fork\n"
     ]
    }
   ],
   "source": [
    "print(g+'2'+f)"
   ]
  },
  {
   "cell_type": "code",
   "execution_count": 143,
   "id": "6019b749",
   "metadata": {},
   "outputs": [],
   "source": [
    "h='farm2fork'"
   ]
  },
  {
   "cell_type": "code",
   "execution_count": 149,
   "id": "1d5ebe25",
   "metadata": {},
   "outputs": [
    {
     "name": "stdout",
     "output_type": "stream",
     "text": [
      "4\n"
     ]
    }
   ],
   "source": [
    "print(h.find(\"2\"))"
   ]
  },
  {
   "cell_type": "code",
   "execution_count": 155,
   "id": "8b1b9d71",
   "metadata": {},
   "outputs": [
    {
     "name": "stdout",
     "output_type": "stream",
     "text": [
      "0\n"
     ]
    }
   ],
   "source": [
    "print(h.count(\"0\"))"
   ]
  },
  {
   "cell_type": "code",
   "execution_count": 157,
   "id": "d77d5295",
   "metadata": {},
   "outputs": [
    {
     "name": "stdout",
     "output_type": "stream",
     "text": [
      "1\n"
     ]
    }
   ],
   "source": [
    "print(h.count(\"o\"))"
   ]
  },
  {
   "cell_type": "code",
   "execution_count": 159,
   "id": "2b23a3ec",
   "metadata": {},
   "outputs": [
    {
     "name": "stdout",
     "output_type": "stream",
     "text": [
      "9\n"
     ]
    }
   ],
   "source": [
    "print(len(h))"
   ]
  },
  {
   "cell_type": "code",
   "execution_count": 175,
   "id": "f04c04a1",
   "metadata": {},
   "outputs": [
    {
     "name": "stdout",
     "output_type": "stream",
     "text": [
      "['farm2fork']\n"
     ]
    }
   ],
   "source": [
    "print(h.split())"
   ]
  },
  {
   "cell_type": "code",
   "execution_count": 176,
   "id": "2d2a0f1c",
   "metadata": {},
   "outputs": [
    {
     "name": "stdout",
     "output_type": "stream",
     "text": [
      "['farm', 'fork']\n"
     ]
    }
   ],
   "source": [
    "print(h.split(\"2\"))"
   ]
  },
  {
   "cell_type": "code",
   "execution_count": 178,
   "id": "93b2e9a1",
   "metadata": {},
   "outputs": [
    {
     "name": "stdout",
     "output_type": "stream",
     "text": [
      "False\n"
     ]
    }
   ],
   "source": [
    "print(h[0:10].startswith(\"fork\"))"
   ]
  },
  {
   "cell_type": "code",
   "execution_count": 180,
   "id": "2ca39a4d",
   "metadata": {},
   "outputs": [
    {
     "name": "stdout",
     "output_type": "stream",
     "text": [
      "True\n"
     ]
    }
   ],
   "source": [
    "print(h[5:9].startswith(\"fork\"))\n"
   ]
  },
  {
   "cell_type": "code",
   "execution_count": 182,
   "id": "22952963",
   "metadata": {},
   "outputs": [
    {
     "name": "stdout",
     "output_type": "stream",
     "text": [
      "True\n"
     ]
    }
   ],
   "source": [
    "print(h[5:10].startswith(\"fork\"))"
   ]
  },
  {
   "cell_type": "code",
   "execution_count": 184,
   "id": "b2aa2e78",
   "metadata": {},
   "outputs": [
    {
     "name": "stdout",
     "output_type": "stream",
     "text": [
      "True\n"
     ]
    }
   ],
   "source": [
    "print(h[5:11].startswith(\"fork\"))\n"
   ]
  },
  {
   "cell_type": "code",
   "execution_count": 193,
   "id": "b351423d",
   "metadata": {},
   "outputs": [],
   "source": [
    "a = False\n",
    "b = True\n",
    "c = 0 < a\n",
    "d = c or not a and not b\n",
    "\n"
   ]
  },
  {
   "cell_type": "code",
   "execution_count": 195,
   "id": "05a3a361",
   "metadata": {},
   "outputs": [
    {
     "name": "stdout",
     "output_type": "stream",
     "text": [
      "False\n"
     ]
    }
   ],
   "source": [
    "print(d)\n"
   ]
  },
  {
   "cell_type": "code",
   "execution_count": 202,
   "id": "0bde1c48",
   "metadata": {},
   "outputs": [],
   "source": [
    "some_numbers = [6 ,2 ,4 ,10 ,8]\n",
    "some_characters = ['a','b','c']"
   ]
  },
  {
   "cell_type": "code",
   "execution_count": 206,
   "id": "9d0b3845",
   "metadata": {},
   "outputs": [
    {
     "name": "stdout",
     "output_type": "stream",
     "text": [
      "[2, 10]\n",
      "[2, 4, 10, 8]\n",
      "[6, 2, 4, 10, 8]\n"
     ]
    }
   ],
   "source": [
    "print ( some_numbers [1:5:2])\n",
    "print ( some_numbers [1:5])\n",
    "print ( some_numbers [:5])\n"
   ]
  },
  {
   "cell_type": "code",
   "execution_count": 208,
   "id": "39e7e5f0",
   "metadata": {},
   "outputs": [
    {
     "name": "stdout",
     "output_type": "stream",
     "text": [
      "['a', 'b', 'c']\n",
      "['c', 'b', 'a']\n",
      "['c']\n",
      "c\n"
     ]
    }
   ],
   "source": [
    "print ( some_characters [::])\n",
    "print ( some_characters [:: -1])\n",
    "print ( some_characters [ -1::])\n",
    "print ( some_characters [ -1])"
   ]
  },
  {
   "cell_type": "code",
   "execution_count": 210,
   "id": "20a80817",
   "metadata": {},
   "outputs": [
    {
     "name": "stdout",
     "output_type": "stream",
     "text": [
      "[2, 4, 6, 8, 10]\n",
      "[2, 4, 6, 8, 10]\n",
      "None\n",
      "[2, 4, 6, 8, 10]\n"
     ]
    }
   ],
   "source": [
    "print ( sorted ( some_numbers ) )\n",
    "print ( some_numbers )\n",
    "print ( some_numbers . sort () )\n",
    "print ( sorted ( some_numbers ) )\n",
    "#  sort means it does not show the changes but it actually change the list.but in sorted it does not change the list in real."
   ]
  },
  {
   "cell_type": "code",
   "execution_count": 214,
   "id": "99717158",
   "metadata": {},
   "outputs": [
    {
     "name": "stdout",
     "output_type": "stream",
     "text": [
      "None\n"
     ]
    }
   ],
   "source": [
    "print ( some_characters . append(\"d\") )\n",
    "# append you can use to add items."
   ]
  },
  {
   "cell_type": "code",
   "execution_count": 216,
   "id": "524fc0b9",
   "metadata": {},
   "outputs": [
    {
     "name": "stdout",
     "output_type": "stream",
     "text": [
      "['a', 'b', 'c', 'd', 'd']\n"
     ]
    }
   ],
   "source": [
    "print ( some_characters )\n"
   ]
  },
  {
   "cell_type": "code",
   "execution_count": 218,
   "id": "b3858785",
   "metadata": {},
   "outputs": [
    {
     "name": "stdout",
     "output_type": "stream",
     "text": [
      "None\n"
     ]
    }
   ],
   "source": [
    "print ( some_characters . insert(2 ,\"e\") )\n",
    "# insert changes the actual list permannent but append changes that temporarily."
   ]
  },
  {
   "cell_type": "code",
   "execution_count": 220,
   "id": "90692632",
   "metadata": {},
   "outputs": [
    {
     "name": "stdout",
     "output_type": "stream",
     "text": [
      "['a', 'b', 'e', 'e', 'c', 'd', 'd']\n"
     ]
    }
   ],
   "source": [
    "print ( some_characters )\n"
   ]
  },
  {
   "cell_type": "code",
   "execution_count": 222,
   "id": "da571ed3",
   "metadata": {},
   "outputs": [
    {
     "ename": "ValueError",
     "evalue": "list.remove(x): x not in list",
     "output_type": "error",
     "traceback": [
      "\u001b[1;31m---------------------------------------------------------------------------\u001b[0m",
      "\u001b[1;31mValueError\u001b[0m                                Traceback (most recent call last)",
      "\u001b[1;32m~\\AppData\\Local\\Temp\\ipykernel_11656\\2845385706.py\u001b[0m in \u001b[0;36m<module>\u001b[1;34m\u001b[0m\n\u001b[1;32m----> 1\u001b[1;33m \u001b[0mprint\u001b[0m \u001b[1;33m(\u001b[0m \u001b[0msome_numbers\u001b[0m \u001b[1;33m.\u001b[0m \u001b[0mremove\u001b[0m \u001b[1;33m(\u001b[0m\u001b[1;36m7\u001b[0m\u001b[1;33m)\u001b[0m\u001b[1;33m)\u001b[0m\u001b[1;33m\u001b[0m\u001b[1;33m\u001b[0m\u001b[0m\n\u001b[0m",
      "\u001b[1;31mValueError\u001b[0m: list.remove(x): x not in list"
     ]
    }
   ],
   "source": [
    "print ( some_numbers . remove (7))\n"
   ]
  },
  {
   "cell_type": "code",
   "execution_count": 225,
   "id": "851b548c",
   "metadata": {},
   "outputs": [
    {
     "ename": "ValueError",
     "evalue": "list.remove(x): x not in list",
     "output_type": "error",
     "traceback": [
      "\u001b[1;31m---------------------------------------------------------------------------\u001b[0m",
      "\u001b[1;31mValueError\u001b[0m                                Traceback (most recent call last)",
      "\u001b[1;32m~\\AppData\\Local\\Temp\\ipykernel_11656\\3808275884.py\u001b[0m in \u001b[0;36m<module>\u001b[1;34m\u001b[0m\n\u001b[1;32m----> 1\u001b[1;33m \u001b[0mprint\u001b[0m \u001b[1;33m(\u001b[0m \u001b[0msome_numbers\u001b[0m \u001b[1;33m.\u001b[0m \u001b[0mremove\u001b[0m\u001b[1;33m(\u001b[0m\u001b[1;36m10\u001b[0m\u001b[1;33m)\u001b[0m \u001b[1;33m)\u001b[0m\u001b[1;33m\u001b[0m\u001b[1;33m\u001b[0m\u001b[0m\n\u001b[0m",
      "\u001b[1;31mValueError\u001b[0m: list.remove(x): x not in list"
     ]
    }
   ],
   "source": [
    "print ( some_numbers . remove(10) )"
   ]
  },
  {
   "cell_type": "code",
   "execution_count": 227,
   "id": "591b6731",
   "metadata": {},
   "outputs": [
    {
     "name": "stdout",
     "output_type": "stream",
     "text": [
      "[2, 4, 6, 8]\n"
     ]
    }
   ],
   "source": [
    "print ( some_numbers )"
   ]
  },
  {
   "cell_type": "code",
   "execution_count": 229,
   "id": "9dedfa15",
   "metadata": {},
   "outputs": [
    {
     "name": "stdout",
     "output_type": "stream",
     "text": [
      "6\n"
     ]
    }
   ],
   "source": [
    "print ( some_numbers . pop (1) )\n",
    "#remove an item at the specified index from the list."
   ]
  },
  {
   "cell_type": "code",
   "execution_count": 230,
   "id": "8c340348",
   "metadata": {},
   "outputs": [
    {
     "name": "stdout",
     "output_type": "stream",
     "text": [
      "[2, 8]\n"
     ]
    }
   ],
   "source": [
    "print ( some_numbers )\n"
   ]
  }
 ],
 "metadata": {
  "kernelspec": {
   "display_name": "Python 3 (ipykernel)",
   "language": "python",
   "name": "python3"
  },
  "language_info": {
   "codemirror_mode": {
    "name": "ipython",
    "version": 3
   },
   "file_extension": ".py",
   "mimetype": "text/x-python",
   "name": "python",
   "nbconvert_exporter": "python",
   "pygments_lexer": "ipython3",
   "version": "3.9.13"
  }
 },
 "nbformat": 4,
 "nbformat_minor": 5
}
